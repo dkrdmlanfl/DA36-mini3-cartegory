{
  "nbformat": 4,
  "nbformat_minor": 0,
  "metadata": {
    "colab": {
      "provenance": [],
      "machine_shape": "hm",
      "gpuType": "V28"
    },
    "kernelspec": {
      "name": "python3",
      "display_name": "Python 3"
    },
    "language_info": {
      "name": "python"
    },
    "accelerator": "TPU"
  },
  "cells": [
    {
      "cell_type": "code",
      "source": [
        "# @title 데이터 준비\n",
        "# https://drive.google.com/file/d/1z-HEvwpoTDbef_EowtGp7mUINlDRLFw7/view?usp=sharing\n",
        "# https://drive.google.com/file/d/1l7bAiyAX4XSitPZgSBDXlMuZo3A7GaJd/view?usp=sharing\n",
        "import gdown, zipfile, os\n",
        "\n",
        "file_id = '1l7bAiyAX4XSitPZgSBDXlMuZo3A7GaJd'\n",
        "\n",
        "gdown.download(f'https://drive.google.com/uc?id={file_id}', 'SUV_kor.zip', quiet=False)\n",
        "\n",
        "dir = 'SUV-classification2'\n",
        "os.makedirs(dir, exist_ok=True)  # 없으면 생성\n",
        "\n",
        "with zipfile.ZipFile('SUV_kor.zip', 'r') as z:\n",
        "    z.extractall(dir)"
      ],
      "metadata": {
        "colab": {
          "base_uri": "https://localhost:8080/"
        },
        "id": "PhxPPro-cnLt",
        "outputId": "c9d9c5e1-6329-4779-9409-8737bbdfbf0c"
      },
      "execution_count": null,
      "outputs": [
        {
          "output_type": "stream",
          "name": "stderr",
          "text": [
            "Downloading...\n",
            "From (original): https://drive.google.com/uc?id=1l7bAiyAX4XSitPZgSBDXlMuZo3A7GaJd\n",
            "From (redirected): https://drive.google.com/uc?id=1l7bAiyAX4XSitPZgSBDXlMuZo3A7GaJd&confirm=t&uuid=0be21f35-923b-4c76-af25-b09caf1d387e\n",
            "To: /content/SUV_kor.zip\n",
            "100%|██████████| 1.75G/1.75G [00:06<00:00, 250MB/s]\n"
          ]
        }
      ]
    },
    {
      "cell_type": "code",
      "execution_count": null,
      "metadata": {
        "colab": {
          "base_uri": "https://localhost:8080/"
        },
        "id": "32s3-8VYck6f",
        "outputId": "2a88520c-eb98-45f8-dd90-54ce42fbe2b7"
      },
      "outputs": [
        {
          "output_type": "stream",
          "name": "stdout",
          "text": [
            "label\n",
            "Santafe     1000\n",
            "Tucson      1000\n",
            "Kona        1000\n",
            "Veracruz    1000\n",
            "Palisade    1000\n",
            "Sorento     1000\n",
            "Sportage    1000\n",
            "Mohave      1000\n",
            "Niro        1000\n",
            "Seltos      1000\n",
            "Soul        1000\n",
            "Carens      1000\n",
            "Name: count, dtype: int64\n"
          ]
        }
      ],
      "source": [
        "import os\n",
        "import pandas as pd\n",
        "import numpy as np\n",
        "from tensorflow.keras.preprocessing import image\n",
        "from sklearn.model_selection import train_test_split\n",
        "from sklearn.preprocessing import LabelEncoder\n",
        "from tensorflow.keras.utils import to_categorical\n",
        "\n",
        "# 데이터 로딩 함수\n",
        "def load_data(base_dir='SUV-classification2'):\n",
        "    images = []\n",
        "    labels = []\n",
        "\n",
        "    base = os.path.join(base_dir, 'SUV')\n",
        "\n",
        "    for category in ['Hyundai', 'Kia']:\n",
        "        category_path = os.path.join(base, category)\n",
        "\n",
        "        for filename in os.listdir(category_path):\n",
        "            if '.jpg' in filename:\n",
        "                file_path = os.path.join(category_path, filename)\n",
        "                images.append(file_path)\n",
        "                texts = filename.replace('_', '$').replace('-', '$')\n",
        "                texts = texts.split('$')\n",
        "                labels.append(texts[1])  # 차량 종류 라벨\n",
        "\n",
        "    df_temp = pd.DataFrame({'path': images, 'label': labels})\n",
        "    return df_temp\n",
        "\n",
        "# 데이터 로드\n",
        "df_temp = load_data()\n",
        "data_set = pd.DataFrame()\n",
        "\n",
        "# 각 라벨마다 1000개씩 샘플링\n",
        "for g in df_temp['label'].unique():\n",
        "    if len(df_temp[df_temp['label'] == g]) > 1000:\n",
        "        temp_df = df_temp[df_temp['label'] == g].sample(1000)\n",
        "        data_set = pd.concat([data_set, temp_df])\n",
        "\n",
        "print(data_set['label'].value_counts())\n",
        "\n"
      ]
    },
    {
      "cell_type": "code",
      "source": [
        "def preprocess_image(img_path, target_size=(224, 224)):\n",
        "    img = image.load_img(img_path, target_size=target_size)\n",
        "    img_array = image.img_to_array(img) / 255.0  # 이미지 정규화\n",
        "    return img_array\n",
        "\n",
        "images_resized = np.array([preprocess_image(path) for path in data_set['path']])\n",
        "labels = data_set['label'].values\n",
        "\n",
        "label_encoder = LabelEncoder()\n",
        "encoded_labels = label_encoder.fit_transform(labels)\n",
        "\n",
        "# 학습/검증 데이터 분리\n",
        "train_images, val_images, train_labels, val_labels = train_test_split(\n",
        "    images_resized, encoded_labels, test_size=0.2, random_state=42\n",
        ")\n",
        "\n",
        "print(train_images.shape, val_images.shape)\n"
      ],
      "metadata": {
        "colab": {
          "base_uri": "https://localhost:8080/"
        },
        "id": "hBGFBmFFcvtV",
        "outputId": "2708c419-9772-48da-8cd8-4b13fd583242"
      },
      "execution_count": null,
      "outputs": [
        {
          "output_type": "stream",
          "name": "stdout",
          "text": [
            "(9600, 224, 224, 3) (2400, 224, 224, 3)\n"
          ]
        }
      ]
    },
    {
      "cell_type": "code",
      "source": [
        "\n",
        "from tensorflow.keras.applications import MobileNetV2\n",
        "from tensorflow.keras.models import Model\n",
        "from tensorflow.keras.layers import Dense, GlobalAveragePooling2D, Dropout\n",
        "from tensorflow.keras.optimizers import Adam\n",
        "\n",
        "# MobileNetV2 모델 불러오기\n",
        "base_model = MobileNetV2(input_shape=(224, 224, 3), include_top=False, weights='imagenet')\n",
        "\n",
        "# 기본 모델의 레이어 동결\n",
        "for layer in base_model.layers:\n",
        "    layer.trainable = False  # 가중치 고정\n",
        "\n",
        "# 새로운 출력층 추가\n",
        "x = base_model.output\n",
        "x = GlobalAveragePooling2D()(x)\n",
        "x = Dropout(0.3)(x)  # Dropout 추가\n",
        "x = Dense(1024, activation='relu', kernel_initializer='he_normal')(x)  # Dense 레이어 추가\n",
        "output = Dense(12, activation='softmax')(x)  # 클래스 수는 12개\n",
        "\n",
        "# 최종 모델 정의\n",
        "model = Model(inputs=base_model.input, outputs=output)\n"
      ],
      "metadata": {
        "colab": {
          "base_uri": "https://localhost:8080/"
        },
        "id": "jGETimTYcyFk",
        "outputId": "6ea1f386-711a-4c0b-de0a-e8d83751e7e0"
      },
      "execution_count": null,
      "outputs": [
        {
          "output_type": "stream",
          "name": "stdout",
          "text": [
            "Downloading data from https://storage.googleapis.com/tensorflow/keras-applications/mobilenet_v2/mobilenet_v2_weights_tf_dim_ordering_tf_kernels_1.0_224_no_top.h5\n",
            "9406464/9406464 [==============================] - 0s 0us/step\n"
          ]
        }
      ]
    },
    {
      "cell_type": "code",
      "source": [
        "from tensorflow.keras.applications import MobileNetV2\n",
        "from tensorflow.keras.models import Model\n",
        "from tensorflow.keras.layers import Dense, GlobalAveragePooling2D, Dropout\n",
        "from tensorflow.keras.optimizers import Adam\n",
        "\n",
        "# MobileNetV2 모델 불러오기\n",
        "base_model = MobileNetV2(input_shape=(224, 224, 3), include_top=False, weights='imagenet')\n",
        "\n",
        "# 기본 모델의 레이어 동결\n",
        "for layer in base_model.layers:\n",
        "    layer.trainable = False\n",
        "\n",
        "# 새로운 출력층 설정\n",
        "x = base_model.output\n",
        "x = GlobalAveragePooling2D()(x)\n",
        "x = Dropout(0.3)(x)  # Dropout 추가\n",
        "x = Dense(1024, activation='relu', kernel_initializer='he_normal')(x)\n",
        "x = Dropout(0.3)(x)\n",
        "output = Dense(12, activation='softmax')(x)  # 12개의 클래스\n",
        "\n",
        "# 모델 컴파일\n",
        "model = Model(inputs=base_model.input, outputs=output)\n",
        "model.compile(optimizer=Adam(learning_rate=0.001), loss='sparse_categorical_crossentropy', metrics=['accuracy'])\n",
        "\n",
        "# 모델 학습\n",
        "history = model.fit(train_images, train_labels, validation_data=(val_images, val_labels), epochs=50)\n",
        "\n",
        "# 학습 결과 시각화\n",
        "import matplotlib.pyplot as plt\n",
        "pd.DataFrame(history.history).plot()\n",
        "plt.show()"
      ],
      "metadata": {
        "id": "khMOfMI9c0_E"
      },
      "execution_count": null,
      "outputs": []
    },
    {
      "cell_type": "code",
      "source": [
        "# Fine-tuning 시작 (기존 레이어의 일부만 학습)\n",
        "for layer in base_model.layers[:-5]:\n",
        "    layer.trainable = True\n",
        "\n",
        "# 모델 컴파일 (learning rate 낮추기)\n",
        "model.compile(optimizer=Adam(learning_rate=0.0001), loss='sparse_categorical_crossentropy', metrics=['accuracy'])\n",
        "\n",
        "# Fine-tuning 학습\n",
        "history_ft = model.fit(train_images, train_labels, validation_data=(val_images, val_labels), epochs=50)\n",
        "\n",
        "# Fine-tuning 결과 시각화\n",
        "pd.DataFrame(history_ft.history).plot()\n",
        "plt.show()\n"
      ],
      "metadata": {
        "id": "adgldDqHeLh3"
      },
      "execution_count": null,
      "outputs": []
    },
    {
      "cell_type": "code",
      "source": [
        "# 평가\n",
        "val_loss, val_accuracy = model.evaluate(val_images, val_labels)\n",
        "print(f\" Accuracy: {val_accuracy:.4f},  Loss: {val_loss:.4f}, \")\n",
        "\n",
        "# 모델 저장\n",
        "model.save(\"MobileNet_2_model.h5\")"
      ],
      "metadata": {
        "id": "_IhR0KUeftFb"
      },
      "execution_count": null,
      "outputs": []
    }
  ]
}