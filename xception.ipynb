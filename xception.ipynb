{
 "cells": [
  {
   "metadata": {
    "id": "25a4802221332b16"
   },
   "cell_type": "markdown",
   "source": [
    "# 전이학습"
   ],
   "id": "25a4802221332b16"
  },
  {
   "metadata": {
    "colab": {
     "base_uri": "https://localhost:8080/"
    },
    "id": "dc39ba3d0b86db70",
    "executionInfo": {
     "status": "ok",
     "timestamp": 1732587450305,
     "user_tz": -540,
     "elapsed": 44396,
     "user": {
      "displayName": "최수빈",
      "userId": "11129823634468191294"
     }
    },
    "outputId": "f95129bd-3244-4d74-87d0-67744f52f642",
    "ExecuteTime": {
     "end_time": "2024-11-26T02:20:22.627003Z",
     "start_time": "2024-11-26T02:20:21.895736Z"
    }
   },
   "cell_type": "code",
   "source": [
    "# @title gdown\n",
    "# https://drive.google.com/file/d/1z-HEvwpoTDbef_EowtGp7mUINlDRLFw7/view?usp=sharing\n",
    "import gdown, zipfile, os\n",
    "\n",
    "file_id = '1z-HEvwpoTDbef_EowtGp7mUINlDRLFw7'\n",
    "\n",
    "gdown.download(f'https://drive.google.com/uc?id={file_id}', 'SUV_kor.zip', quiet=False)\n",
    "\n",
    "dir = 'SUV-classification2'\n",
    "os.makedirs(dir, exist_ok=True)  # 없으면 생성\n",
    "\n",
    "with zipfile.ZipFile('SUV_kor.zip', 'r') as z:\n",
    "    z.extractall(dir)"
   ],
   "id": "dc39ba3d0b86db70",
   "outputs": [
    {
     "ename": "ModuleNotFoundError",
     "evalue": "No module named 'gdown'",
     "output_type": "error",
     "traceback": [
      "\u001B[1;31m---------------------------------------------------------------------------\u001B[0m",
      "\u001B[1;31mModuleNotFoundError\u001B[0m                       Traceback (most recent call last)",
      "Cell \u001B[1;32mIn[1], line 3\u001B[0m\n\u001B[0;32m      1\u001B[0m \u001B[38;5;66;03m# @title gdown\u001B[39;00m\n\u001B[0;32m      2\u001B[0m \u001B[38;5;66;03m# https://drive.google.com/file/d/1z-HEvwpoTDbef_EowtGp7mUINlDRLFw7/view?usp=sharing\u001B[39;00m\n\u001B[1;32m----> 3\u001B[0m \u001B[38;5;28;01mimport\u001B[39;00m \u001B[38;5;21;01mgdown\u001B[39;00m\u001B[38;5;241m,\u001B[39m \u001B[38;5;21;01mzipfile\u001B[39;00m\u001B[38;5;241m,\u001B[39m \u001B[38;5;21;01mos\u001B[39;00m\n\u001B[0;32m      5\u001B[0m file_id \u001B[38;5;241m=\u001B[39m \u001B[38;5;124m'\u001B[39m\u001B[38;5;124m1z-HEvwpoTDbef_EowtGp7mUINlDRLFw7\u001B[39m\u001B[38;5;124m'\u001B[39m\n\u001B[0;32m      7\u001B[0m gdown\u001B[38;5;241m.\u001B[39mdownload(\u001B[38;5;124mf\u001B[39m\u001B[38;5;124m'\u001B[39m\u001B[38;5;124mhttps://drive.google.com/uc?id=\u001B[39m\u001B[38;5;132;01m{\u001B[39;00mfile_id\u001B[38;5;132;01m}\u001B[39;00m\u001B[38;5;124m'\u001B[39m, \u001B[38;5;124m'\u001B[39m\u001B[38;5;124mSUV_kor.zip\u001B[39m\u001B[38;5;124m'\u001B[39m, quiet\u001B[38;5;241m=\u001B[39m\u001B[38;5;28;01mFalse\u001B[39;00m)\n",
      "\u001B[1;31mModuleNotFoundError\u001B[0m: No module named 'gdown'"
     ]
    }
   ],
   "execution_count": 1
  },
  {
   "metadata": {
    "id": "e214095452d8eaf9",
    "executionInfo": {
     "status": "ok",
     "timestamp": 1732587452323,
     "user_tz": -540,
     "elapsed": 2021,
     "user": {
      "displayName": "최수빈",
      "userId": "11129823634468191294"
     }
    }
   },
   "cell_type": "code",
   "outputs": [],
   "execution_count": 2,
   "source": [
    "import numpy as np\n",
    "import pandas as pd\n",
    "import matplotlib.pyplot as plt\n",
    "import os\n",
    "\n",
    "from sklearn.model_selection import train_test_split\n",
    "\n",
    "def sample(x):\n",
    "\n",
    "  return x.sample(1000)\n",
    "\n",
    "def load_data(base_dir='SUV-classification2'):\n",
    "  images = []\n",
    "  labels = []\n",
    "\n",
    "  sampled_images = []\n",
    "  sampled_labels = []\n",
    "\n",
    "\n",
    "  base = os.path.join(base_dir, 'SUV')\n",
    "\n",
    "  for category in [ 'Hyundai', 'Kia', ]:\n",
    "    category_path = os.path.join(base, category) # vehicle-classification/pics/BMW\n",
    "\n",
    "    for filename in os.listdir(category_path):\n",
    "      if '.jpg' in filename:\n",
    "        file_path = os.path.join(category_path, filename)\n",
    "        images.append(file_path)\n",
    "        texts = filename.replace('_','$').replace('-','$')\n",
    "        texts = texts.split('$')\n",
    "        labels.append(texts[1])\n",
    "\n",
    "\n",
    "  df_temp = pd.DataFrame({\n",
    "    'path': images,\n",
    "    'label': labels\n",
    "  })\n",
    "\n",
    "  return df_temp\n"
   ],
   "id": "e214095452d8eaf9"
  },
  {
   "metadata": {
    "colab": {
     "base_uri": "https://localhost:8080/"
    },
    "id": "a539ca7dd486c4ae",
    "executionInfo": {
     "status": "ok",
     "timestamp": 1732587452823,
     "user_tz": -540,
     "elapsed": 502,
     "user": {
      "displayName": "최수빈",
      "userId": "11129823634468191294"
     }
    },
    "outputId": "3c5b7189-14f0-4bc8-8502-4722ad33a362"
   },
   "cell_type": "code",
   "outputs": [
    {
     "output_type": "stream",
     "name": "stdout",
     "text": [
      "label\n",
      "Tucson      1000\n",
      "Santafe     1000\n",
      "Palisade    1000\n",
      "Veracruz    1000\n",
      "Kona        1000\n",
      "Seltos      1000\n",
      "Carens      1000\n",
      "Sorento     1000\n",
      "Sportage    1000\n",
      "Mohave      1000\n",
      "Soul        1000\n",
      "Niro        1000\n",
      "Name: count, dtype: int64\n",
      "                                                    path   label\n",
      "12282  SUV-classification2/SUV/Hyundai/SUV_Tucson-153...  Tucson\n",
      "16202  SUV-classification2/SUV/Hyundai/SUV_Tucson-103...  Tucson\n",
      "6249   SUV-classification2/SUV/Hyundai/SUV_Tucson-547...  Tucson\n",
      "4869   SUV-classification2/SUV/Hyundai/SUV_Tucson-449...  Tucson\n",
      "17918  SUV-classification2/SUV/Hyundai/SUV_Tucson-650...  Tucson\n"
     ]
    },
    {
     "output_type": "execute_result",
     "data": {
      "text/plain": [
       "((9600,), (9600,), (2400,), (2400,))"
      ]
     },
     "metadata": {},
     "execution_count": 3
    }
   ],
   "execution_count": 3,
   "source": [
    "#@title 10개 차종 천장씩 분류\n",
    "df_temp = load_data()\n",
    "\n",
    "data_set = pd.DataFrame()\n",
    "\n",
    "for g in df_temp['label'].unique():\n",
    "  if(len(df_temp[df_temp['label'] == g].value_counts())>1000):\n",
    "    temp_df = df_temp[df_temp['label'] == g].sample(1000)\n",
    "    data_set = pd.concat([data_set, temp_df])\n",
    "\n",
    "\n",
    "print(data_set['label'].value_counts())\n",
    "print(data_set.head())\n",
    "\n",
    "# # 데이터 로드 및 분리\n",
    "# (tr_images, tr_labels), (test_images, test_labels) = load_data()\n",
    "\n",
    "# # 입력 데이터 전처리\n",
    "# test_images = test_images.reshape(-1, 28, 28, 1) / 255.0  # 크기 및 정규화\n",
    "# test_labels = test_labels  # 레이블은 그대로 사용\n",
    "\n",
    "# 훈련/test 셋 분할\n",
    "\n",
    "tr_images, test_images, tr_labels, test_labels = train_test_split(data_set['path'], data_set['label'], test_size=0.2, random_state=0)\n",
    "\n",
    "tr_images.shape, tr_labels.shape, test_images.shape, test_labels.shape  #images path\n"
   ],
   "id": "a539ca7dd486c4ae"
  },
  {
   "cell_type": "code",
   "source": [
    "from tensorflow.keras.preprocessing.image import load_img, img_to_array\n",
    "from sklearn.preprocessing import LabelEncoder\n",
    "import numpy as np\n",
    "\n",
    "# 이미지 로딩 및 전처리 함수\n",
    "def preprocess_image(image_path, image_size):\n",
    "    image = load_img(image_path, target_size=(image_size, image_size))\n",
    "    image = img_to_array(image)\n",
    "    image = image / 255.0  # 정규화\n",
    "    return image\n",
    "\n",
    "# 이미지 데이터 로드\n",
    "IMAGE_SIZE = 299\n",
    "tr_images = np.array([preprocess_image(path, IMAGE_SIZE) for path in tr_images])\n",
    "test_images = np.array([preprocess_image(path, IMAGE_SIZE) for path in test_images])\n",
    "\n",
    "# 레이블 인코딩\n",
    "label_encoder = LabelEncoder()\n",
    "tr_labels = label_encoder.fit_transform(tr_labels)\n",
    "test_labels = label_encoder.transform(test_labels)\n"
   ],
   "metadata": {
    "id": "3fGozFZoJmPt"
   },
   "id": "3fGozFZoJmPt",
   "execution_count": null,
   "outputs": []
  },
  {
   "metadata": {
    "id": "5e253db02978a79e"
   },
   "cell_type": "markdown",
   "source": [
    "##  Xception 모델 로드"
   ],
   "id": "5e253db02978a79e"
  },
  {
   "metadata": {
    "id": "e09a10fd1bb5aaea",
    "collapsed": true
   },
   "cell_type": "code",
   "source": [
    "#Xception은 299*299 사이즈로 전달해줘야 함\n",
    "\n",
    "from tensorflow.keras import applications\n",
    "pretrained_model = applications.Xception()\n",
    "pretrained_model.summary()"
   ],
   "id": "e09a10fd1bb5aaea",
   "outputs": [],
   "execution_count": null
  },
  {
   "cell_type": "markdown",
   "source": [
    "## Car10Sequence"
   ],
   "metadata": {
    "id": "qiSLDVmcETK-"
   },
   "id": "qiSLDVmcETK-"
  },
  {
   "cell_type": "code",
   "source": [
    "from tensorflow.keras.utils import Sequence\n",
    "\n",
    "from sklearn.utils import shuffle\n",
    "import numpy as np\n",
    "import cv2\n",
    "\n",
    "BATCH_SIZE = 64\n",
    "IMAGE_SIZE = 229\n",
    "\n",
    "class Car10Sequence(Sequence):\n",
    "  def __init__(self, images, labels,\n",
    "               batch_size=BATCH_SIZE, image_size=IMAGE_SIZE, augmentor=None,\n",
    "               shuffle=False, preprocess_function=None):\n",
    "    self.images = images # path가 아닌 이미지 픽셀 데이터(ndarray)\n",
    "    self.labels = labels # fit/evaluate에는 label데이터가 있지만, predict에는 label데이터가 없다.\n",
    "    self.batch_size = batch_size\n",
    "    self.image_size = image_size\n",
    "    self.augmentor = augmentor\n",
    "    self.shuffle = shuffle\n",
    "    self.preprocess_function = preprocess_function # 스케일링 함수\n",
    "    self.on_epoch_end() # shuffle 처리\n",
    "\n",
    "\n",
    "  def __len__(self):\n",
    "    # 이 데이터셋은 몇개의 batch로 구성되었는가\n",
    "    return int(np.ceil(len(self.images) / self.batch_size))\n",
    "\n",
    "  def __getitem__(self, index):\n",
    "    # 이번 배치용 이미지/라벨 선정\n",
    "    start = index * self.batch_size\n",
    "    end = (index + 1) * self.batch_size\n",
    "    this_batch_images = self.images[start:end]\n",
    "    batch_labels = self.labels[start:end] if self.labels is not None else None\n",
    "\n",
    "    batch_images = np.zeros((this_batch_images.shape[0], self.image_size, self.image_size, 3), dtype=np.float32)\n",
    "\n",
    "    for i in range(this_batch_images.shape[0]): # 이번 배치 이미지만큼 반복\n",
    "      image = this_batch_images[i]\n",
    "      # 데이터 증강\n",
    "      #if self.augmentor is not None:\n",
    "      # image = self.augmentor(image)['image']\n",
    "      # 리사이즈\n",
    "      image = cv2.resize(image, (self.image_size, self.image_size))\n",
    "      # 스케일링\n",
    "      if self.preprocess_function is not None:\n",
    "        image = self.preprocess_function(image)\n",
    "\n",
    "      batch_images[i] = image\n",
    "\n",
    "    return (batch_images, batch_labels) if self.labels is not None else batch_images\n",
    "\n",
    "  def on_epoch_end(self):\n",
    "    if self.shuffle:\n",
    "      self.images, self.labels = shuffle(self.images, self.labels)\n",
    "\n"
   ],
   "metadata": {
    "id": "W5LmdcmiEM-4"
   },
   "execution_count": null,
   "outputs": [],
   "id": "W5LmdcmiEM-4"
  },
  {
   "metadata": {
    "id": "66f8ca1df9a26517"
   },
   "cell_type": "markdown",
   "source": [
    "## 분류를 위한 전이학습"
   ],
   "id": "66f8ca1df9a26517"
  },
  {
   "cell_type": "code",
   "source": [
    "#weights 수정 /\n",
    "'''\n",
    "weights=None\n",
    "설명:\n",
    "weights=None으로 설정하면 모델의 가중치가 무작위로 초기화됩니다.\n",
    "모델이 처음부터 새 데이터에 대해 학습하도록 하려는 경우에 사용됩니다.\n",
    "사용 시점:\n",
    "데이터셋이 ImageNet 데이터와 완전히 다른 도메인(예: 의료 영상, 위성 이미지 등)일 때.\n",
    "전이 학습이 불가능하거나 기존 가중치가 도움이 되지 않는다고 판단되는 경우.\n",
    "모델을 처음부터 끝까지 새로 훈련시키고 싶을 때\n",
    "'''\n",
    "from tensorflow.keras import layers\n",
    "from tensorflow.keras import models\n",
    "base_model = applications.Xception(\n",
    "    input_shape=(IMAGE_SIZE, IMAGE_SIZE, 3),\n",
    "    include_top=False,\n",
    "    weights='imagenet'\n",
    ")\n",
    "#모델의 실행 결과를 인풋으로 불러온다.\n",
    "x = base_model.output\n",
    "x = layers.GlobalAveragePooling2D()(x)\n",
    "x = layers.Dropout(0.3)(x)\n",
    "x = layers.Dense(500, activation='relu', kernel_initializer='he_normal')(x)\n",
    "x = layers.Dropout(0.3)(x)\n",
    "output = layers.Dense(10, activation='softmax')(x)\n",
    "model = models.Model(base_model.input, output)\n",
    "model.summary()"
   ],
   "metadata": {
    "id": "ewBwu1deeyhy",
    "collapsed": true
   },
   "id": "ewBwu1deeyhy",
   "execution_count": null,
   "outputs": []
  },
  {
   "cell_type": "code",
   "source": [
    "print(tr_images.shape, test_labels.shape, tr_labels.shape, test_labels.shape)"
   ],
   "metadata": {
    "id": "cwZpYozfFt9q"
   },
   "id": "cwZpYozfFt9q",
   "execution_count": null,
   "outputs": []
  },
  {
   "cell_type": "markdown",
   "source": [
    "## 모델 컴파일 부터 시각화까지"
   ],
   "metadata": {
    "id": "iHbXpUII5LZB"
   },
   "id": "iHbXpUII5LZB"
  },
  {
   "cell_type": "code",
   "source": [
    "print(model.input_shape)  # 예: (None, 28, 28, 1)\n",
    "print(test_images.shape)  # 모델 입력과 동일한지 확인\n"
   ],
   "metadata": {
    "id": "Majzggx0HnbK"
   },
   "id": "Majzggx0HnbK",
   "execution_count": null,
   "outputs": []
  },
  {
   "cell_type": "code",
   "source": [
    "#모델 컴파일\n",
    "from tensorflow.keras.callbacks import EarlyStopping, ReduceLROnPlateau\n",
    "\n",
    "model.compile(\n",
    "    loss='categorical_crossentropy',\n",
    "    optimizer='adam',\n",
    "    metrics=['accuracy']\n",
    ")\n",
    "\n",
    "early_stopping_cb = EarlyStopping(patience=10, verbose=1, restore_best_weights=True)\n",
    "reduce_lr_on_plateau_cb = ReduceLROnPlateau(patience=5, factor=0.5, verbose=1)\n",
    "\n",
    "#학습\n",
    "history = model.fit(epochs=30,\n",
    "    validation_data=(test_images, test_labels),\n",
    "    callbacks=[early_stopping_cb, reduce_lr_on_plateau_cb])\n",
    "\n",
    "#학습결과 시각화\n",
    "pd.DataFrame(history.history).plot()\n",
    "plt.show()\n"
   ],
   "metadata": {
    "id": "YXU2AaU35KfR"
   },
   "id": "YXU2AaU35KfR",
   "execution_count": null,
   "outputs": []
  },
  {
   "cell_type": "code",
   "source": [
    "# 평가\n",
    "loss, acc = model.evaluate(test_seq)\n",
    "print(f'loss:{loss:.4f}, acc:{acc:.4f}')"
   ],
   "metadata": {
    "id": "foJybbBLBB3t"
   },
   "id": "foJybbBLBB3t",
   "execution_count": null,
   "outputs": []
  },
  {
   "metadata": {
    "id": "c5c5a2d75ab4829"
   },
   "cell_type": "markdown",
   "source": [],
   "id": "c5c5a2d75ab4829"
  }
 ],
 "metadata": {
  "kernelspec": {
   "display_name": "Python 3 (ipykernel)",
   "name": "python3",
   "language": "python"
  },
  "language_info": {
   "codemirror_mode": {
    "name": "ipython",
    "version": 2
   },
   "file_extension": ".py",
   "mimetype": "text/x-python",
   "name": "python",
   "nbconvert_exporter": "python",
   "pygments_lexer": "ipython2",
   "version": "2.7.6"
  },
  "colab": {
   "provenance": [],
   "gpuType": "T4"
  },
  "accelerator": "GPU"
 },
 "nbformat": 4,
 "nbformat_minor": 5
}
